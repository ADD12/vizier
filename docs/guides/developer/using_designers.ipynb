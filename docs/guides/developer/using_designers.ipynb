{
  "cells": [
    {
      "cell_type": "markdown",
      "metadata": {
        "id": "j7Vx3wjPFiWA"
      },
      "source": [
        "[![Open in Colab](https://colab.research.google.com/assets/colab-badge.svg)](https://colab.research.google.com/github/google/vizier/blob/main/docs/guides/developer/using_designers.ipynb)"
      ]
    },
    {
      "cell_type": "markdown",
      "metadata": {
        "id": "RqmlmSA9Ews4"
      },
      "source": [
        "### GP Bandit Designer Example"
      ]
    },
    {
      "cell_type": "markdown",
      "metadata": {
        "id": "_4WSZidFFGaH"
      },
      "source": [
        "The following example, which uses Vizier's GP Bandit designer, shows how to interact with Vizier designers."
      ]
    },
    {
      "cell_type": "code",
      "execution_count": null,
      "metadata": {
        "id": "6XhqkYrqE54C"
      },
      "outputs": [],
      "source": [
        "from vizier import pyvizier as vz\n",
        "from vizier._src.algorithms.designers import gp_bandit\n",
        "\n",
        "# The problem statement (which parameters are being optimized)\n",
        "problem = vz.ProblemStatement()\n",
        "problem.search_space.root.add_float_param('x', 0.0, 1.0)\n",
        "problem.search_space.root.add_float_param('y', 0.0, 1.0)\n",
        "problem.metric_information.append(\n",
        "    vz.MetricInformation(\n",
        "        name='maximize_metric', goal=vz.ObjectiveMetricGoal.MAXIMIZE))\n",
        "\n",
        "# Create a new designer object\n",
        "designer = gp_bandit.VizierGPBandit(problem)\n",
        "# Ask the designer for 5 suggestions\n",
        "suggestions = designer.suggest(count=2)"
      ]
    },
    {
      "cell_type": "markdown",
      "metadata": {
        "id": "N425XCBditui"
      },
      "source": [
        "In this case, since the designer was not update with any `COMPLETED` or `ACTIVE` trials, it will produce suggestions which will look like:\n",
        "\n",
        "```python\n",
        "[TrialSuggestion(parameters=ParameterDict(_items={'x': 0.5, 'y': 0.5}), metadata=Metadata((namespace:, items: {'seeded': 'center'}), current_namespace=)),\n",
        " TrialSuggestion(parameters=ParameterDict(_items={'x': 0.10274669379450661, 'y': 0.10191725529767912}), metadata=Metadata((namespace:, items: {}), current_namespace=))]\n",
        " ```"
      ]
    },
    {
      "cell_type": "markdown",
      "metadata": {
        "id": "BvRGlNPai6CP"
      },
      "source": [
        "Note that the first suggestion is seeded at the center of the search space, and the second suggestion is random.  If we call `designer.suggest()` again, before calling `update()`, the designer will produce an identical first suggestion at the center of the search space, and a second random suggestion.\n",
        "\n",
        "Only when we call `update()`, will the designer update its internal state and generate different suggestions:"
      ]
    },
    {
      "cell_type": "code",
      "execution_count": null,
      "metadata": {
        "id": "ABql6QWpj4PW"
      },
      "outputs": [],
      "source": [
        "import numpy as np\n",
        "from vizier import algorithms as vza\n",
        "from vizier import pyvizier as vz\n",
        "from vizier._src.algorithms.designers import gp_bandit\n",
        "\n",
        "# The problem statement (which parameters are being optimized)\n",
        "problem = vz.ProblemStatement()\n",
        "problem.search_space.root.add_float_param('x', 0.0, 1.0)\n",
        "problem.search_space.root.add_float_param('y', 0.0, 1.0)\n",
        "problem.metric_information.append(\n",
        "    vz.MetricInformation(\n",
        "        name='maximize_metric', goal=vz.ObjectiveMetricGoal.MAXIMIZE))\n",
        "\n",
        "# Create a new designer object\n",
        "designer = gp_bandit.VizierGPBandit(problem)\n",
        "# Ask the designer for 5 suggestions\n",
        "suggestions = designer.suggest(count=2)\n",
        "\n",
        "completed_trials = []\n",
        "for suggestion in suggestions:\n",
        "  metric_value = np.random.random()  # Make up a fake metric value.\n",
        "  suggestion.complete(vz.Measurement(metrics={'maximize_metric': metric_value})))\n",
        "\n",
        "# Update the designer with the completed trials.\n",
        "designer.update(vza.CompletedTrials(completed_trials), vza.ActiveTrials())\n",
        "\n",
        "# Ask for more suggestions.\n",
        "new_suggestions = designer.suggest(count=2)"
      ]
    },
    {
      "cell_type": "markdown",
      "metadata": {
        "id": "IH_lEXx-FwTE"
      },
      "source": [
        "Note that `COMPLETED` trials should be incrementally updated, while all `ACTIVE` trials are passed to the designer in every `update()` call."
      ]
    },
    {
      "cell_type": "markdown",
      "metadata": {
        "id": "9OrENGPik2Oi"
      },
      "source": [
        "`Designer` can also be seeded with pre-existing data.\n",
        "\n",
        "Consider the following example:"
      ]
    },
    {
      "cell_type": "code",
      "execution_count": null,
      "metadata": {
        "id": "i9lkFw0jiiwb"
      },
      "outputs": [],
      "source": [
        "from vizier import algorithms as vza\n",
        "from vizier import pyvizier as vz\n",
        "from vizier._src.algorithms.designers import gp_bandit\n",
        "\n",
        "# The problem statement (which parameters are being optimized)\n",
        "problem = vz.ProblemStatement()\n",
        "problem.search_space.root.add_float_param('x', 0.0, 1.0)\n",
        "problem.search_space.root.add_float_param('y', 0.0, 1.0)\n",
        "problem.metric_information.append(\n",
        "    vz.MetricInformation(\n",
        "        name='maximize_metric', goal=vz.ObjectiveMetricGoal.MAXIMIZE))\n",
        "\n",
        "designer = gp_bandit.VizierGPBandit(problem)\n",
        "\n",
        "# Create completed trials representing pre-existing training data.\n",
        "trials = [vz.Trial(parameters={'x': 0.5, 'y': 0.6}).complete(vz.Measurement(metrics={'maximize_metric': 0.3}))]\n",
        "designer.update(vza.CompletedTrials(trials), vza.ActiveTrials())\n",
        "\n",
        "# As the designer for suggestions.\n",
        "suggestions = designer.suggest(count=2)"
      ]
    },
    {
      "cell_type": "markdown",
      "metadata": {
        "id": "9CamJppclYTO"
      },
      "source": [
        "In this case, the designer will not return a first trial seeded at the center of the search space, since it has been updated with completed trials. The new suggestions will look something like:\n",
        "\n",
        "```python\n",
        "[TrialSuggestion(parameters=ParameterDict(_items={'x': 0.7199945005054509, 'y': 0.3800034493548722}), ...]\n",
        "```"
      ]
    }
  ],
  "metadata": {
    "colab": {
      "name": "Using Designers.ipynb",
      "private_outputs": true,
      "provenance": [
        {
          "file_id": "1Lti6pCYENnUm1pBgjWVXSgGVZ0l35fPG",
          "timestamp": 1678208949952
        }
      ]
    },
    "kernelspec": {
      "display_name": "Python 3",
      "name": "python3"
    },
    "language_info": {
      "name": "python"
    }
  },
  "nbformat": 4,
  "nbformat_minor": 0
}
