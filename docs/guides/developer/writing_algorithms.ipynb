{
  "cells": [
    {
      "cell_type": "markdown",
      "metadata": {
        "id": "u4fiLarveGYu"
      },
      "source": [
        "# Writing Algorithms\n",
        "This notebook will allow a developer to:\n",
        "\n",
        "*   Understand the basic structure of a Pythia policy.\n",
        "*   Use the Designer API for simplfying algorithm design.\n",
        "\n",
        "\n"
      ]
    },
    {
      "cell_type": "markdown",
      "metadata": {
        "id": "QhwKY4FDB2El"
      },
      "source": [
        "## Setting up our environment\n",
        "Here, we install necessary packages and import required modules."
      ]
    },
    {
      "cell_type": "code",
      "execution_count": null,
      "metadata": {
        "id": "sSN9-X7jB0Fl"
      },
      "outputs": [],
      "source": [
        "# Install OSS Vizier.\n",
        "!pip install google-vizier"
      ]
    },
    {
      "cell_type": "code",
      "execution_count": null,
      "metadata": {
        "id": "1f_E4bKleQfG"
      },
      "outputs": [],
      "source": [
        "from typing import Optional, Sequence\n",
        "\n",
        "from vizier import pythia\n",
        "from vizier import pyvizier\n",
        "from vizier import algorithms\n",
        "from vizier._src.algorithms.policies import designer_policy\n",
        "from vizier._src.algorithms.evolution import nsga2"
      ]
    },
    {
      "cell_type": "markdown",
      "metadata": {
        "id": "t1lCW6L_fhIR"
      },
      "source": [
        "## Pythia Policies\n",
        "The Vizier server keeps a mapping from algorithm names to `Policy` objects. All algorithm implementations to be hosted on the server must eventually be wrapped into a `Policy`.\n",
        "\n",
        "Every `Policy` is injected with a `PolicySupporter`, which is a client used for fetching data from the datastore. This design choice serves the core purposes:\n",
        "\n",
        "1. The policy is effectively stateless, and thus can be deleted and recovered at any time (e.g. due to a server preemption or failure).\n",
        "2. Consequently, this avoids needing to save an explicit and potentially complicated algorithm state. The \"algorithm state\" can be recovered purely from the entire study, containing metadata, the study config, and trials.\n",
        "\n",
        "We show the `Policy` abstract class explicitly below. Exact code can be found [here](https://github.com/google/vizier/blob/main/vizier/_src/pythia/policy.py)."
      ]
    },
    {
      "cell_type": "code",
      "execution_count": null,
      "metadata": {
        "id": "rUxbgXg3mUWW"
      },
      "outputs": [],
      "source": [
        "class Policy(abc.ABC):\n",
        "  \"\"\"Interface for Pythia2 Policy subclasses.\"\"\"\n",
        "\n",
        "  @abc.abstractmethod\n",
        "  def suggest(self, request: SuggestRequest) -\u003e SuggestDecision:\n",
        "    \"\"\"Compute suggestions that Vizier will eventually hand to the user.\"\"\"\n",
        "\n",
        "  @abc.abstractmethod\n",
        "  def early_stop(self, request: EarlyStopRequest) -\u003e EarlyStopDecisions:\n",
        "    \"\"\"Decide which Trials Vizier should stop.\"\"\"\n",
        "\n",
        "  @property\n",
        "  def should_be_cached(self) -\u003e bool:\n",
        "    \"\"\"Returns True if it's safe \u0026 worthwhile to cache this Policy in RAM.\"\"\"\n",
        "    return False"
      ]
    },
    {
      "cell_type": "markdown",
      "metadata": {
        "id": "ftYM-7ymmWO1"
      },
      "source": [
        "## Example Pythia Policy\n",
        "Here, we write a toy policy, where we only act on `CATEGORICAL` parameters for simplicity. The `make_parameters` function will simply for-loop over every category and then cycle back."
      ]
    },
    {
      "cell_type": "code",
      "execution_count": null,
      "metadata": {
        "id": "8PCogiUee3Zm"
      },
      "outputs": [],
      "source": [
        "def make_parameters(study_config: pyvizier.StudyConfig,\n",
        "                    index: int) -\u003e pyvizier.ParameterDict:\n",
        "  parameter_dict = pyvizier.ParameterDict()\n",
        "  for parameter_config in study_config.search_space.parameters:\n",
        "    if parameter_config.type == pyvizier.ParamterType.CATEGORICAL:\n",
        "      feasible_values = parameter_config.feasible_values\n",
        "      categorical_size = len(feasible_values)\n",
        "      parameter_dict[parameter_config.name] = pyvizier.ParameterValue(\n",
        "          value=feasible_values[index % categorical_size])\n",
        "    else:\n",
        "      raise ValueError(\"This function only supports CATEGORICAL parameters.\")\n",
        "  return parameter_dict"
      ]
    },
    {
      "cell_type": "markdown",
      "metadata": {
        "id": "0odJTgnwCtfz"
      },
      "source": [
        "To collect the `index` from the database, we will use the `PolicySupporter` to obtain all completed trials and look at the maximum trial ID."
      ]
    },
    {
      "cell_type": "code",
      "execution_count": null,
      "metadata": {
        "id": "Be7V7ZTSC2As"
      },
      "outputs": [],
      "source": [
        "def get_next_index(policy_supporter: pythia.PolicySupporter):\n",
        "  \"\"\"Returns current trial index.\"\"\"\n",
        "  completed_trial_ids = [\n",
        "      t.id for t in policy_supporter.GetTrials(\n",
        "          status_matches=pyvizier.TrialStatus.COMPLETED)\n",
        "  ]\n",
        "\n",
        "  if completed_trial_ids:\n",
        "    return max(completed_trial_ids)\n",
        "  return 0"
      ]
    },
    {
      "cell_type": "markdown",
      "metadata": {
        "id": "se5g11DNC6NO"
      },
      "source": [
        "We can now put it all together into our Pythia Policy."
      ]
    },
    {
      "cell_type": "code",
      "execution_count": null,
      "metadata": {
        "id": "dz5dzxCUC-AL"
      },
      "outputs": [],
      "source": [
        "class MyPolicy(pythia.Policy):\n",
        "  def __init__(self, policy_supporter: pythia.PolicySupporter):\n",
        "    self._policy_supporter = policy_supporter\n",
        "\n",
        "  def suggest(self, request: pythia.SuggestRequest) -\u003e pythia.SuggestDecision:\n",
        "    \"\"\"Gets number of Trials to propose, and produces Trials.\"\"\"\n",
        "    suggest_decision_list = []\n",
        "    for _ in range(request.count):\n",
        "      index = get_next_index(self._policy_supporter)\n",
        "      parameters = make_parameters(request.study_config, index)\n",
        "      suggest_decision_list.append(\n",
        "          pyvizier.TrialSuggestion(parameters=parameters))\n",
        "    return pythia.SuggestDecision(\n",
        "        suggestions=suggest_decision_list, metadata=pyvizier.MetadataDelta())"
      ]
    },
    {
      "cell_type": "markdown",
      "metadata": {
        "id": "aVv_fmTug1cn"
      },
      "source": [
        "## Designers\n",
        "\n",
        "While Pythia policies are the proper interface for algorithms to be hosted on\n",
        "the server, we also provide the `Designer` API, a simplified entry point for\n",
        "implementing suggestion and early stopping algorithms.\n",
        "\n",
        "The `Designer` interface is designed to let a developer forget about the\n",
        "ultimate goal of serving the algorithm in a distributed environment. We may\n",
        "pretend we're using the algorithm locally by doing a suggest-update loop in RAM,\n",
        "during the lifetime of a study.\n",
        "\n",
        "We display the `Designer` class below. Exact code can be found\n",
        "[here](https://github.com/google/vizier/blob/main/vizier/_src/algorithms/core/abstractions.py)."
      ]
    },
    {
      "cell_type": "code",
      "execution_count": null,
      "metadata": {
        "id": "ADMbo1JpvKL5"
      },
      "outputs": [],
      "source": [
        "class Designer(_SuggestionAlgorithm):\n",
        "  \"\"\"Suggestion algorithm for sequential usage.\"\"\"\n",
        "\n",
        "  @abc.abstractmethod\n",
        "  def update(self, delta: CompletedTrials) -\u003e None:\n",
        "    \"\"\"Reflect the delta in the designer's state.\"\"\"\n",
        "    pass"
      ]
    },
    {
      "cell_type": "markdown",
      "metadata": {
        "id": "--eOH8TQDQnW"
      },
      "source": [
        "To implement our same algorithm above in a Designer, we only need to implement the `update()` and `suggest()` methods using our previous `make_parameters` function. Note that the designer class can now store completed trials inside its `self._completed_trials` attribute."
      ]
    },
    {
      "cell_type": "code",
      "execution_count": null,
      "metadata": {
        "id": "rddElYlbDQD1"
      },
      "outputs": [],
      "source": [
        "class MyDesigner(algorithms.Designer):\n",
        "\n",
        "  def __init__(self, study_config: pyvizier.StudyConfig):\n",
        "    self._study_config = study_config\n",
        "    self._completed_trials = []\n",
        "\n",
        "  def update(self, delta: algorithms.CompletedTrials) -\u003e None:\n",
        "    self._completed_trials.extend(delta.completed)\n",
        "\n",
        "  def suggest(\n",
        "      self, count: Optional[int] = None) -\u003e Sequence[pyvizier.TrialSuggestion]:\n",
        "    if count is None:\n",
        "      return []\n",
        "    completed_trial_ids = [t.id for t in self._completed_trials]\n",
        "    current_index = max(completed_trial_ids)\n",
        "    return [\n",
        "        make_parameters(self._study_config, current_index + i)\n",
        "        for i in range(count)\n",
        "    ]"
      ]
    },
    {
      "cell_type": "markdown",
      "metadata": {
        "id": "WmDMSt7XoDAe"
      },
      "source": [
        "We can wrap `Designers` into Pythia Policies via the `DesignerPolicy` Wrapper and obtain a Pythia policy with exactly the behavior of `MyPolicy`."
      ]
    },
    {
      "cell_type": "code",
      "execution_count": null,
      "metadata": {
        "id": "73S6f0zuoPL5"
      },
      "outputs": [],
      "source": [
        "designer_factory = lambda study_config: MyDesigner(study_config)\n",
        "MyPolicyCreator = lambda supporter: designer_policy.DesignerPolicy(\n",
        "    supporter=supporter, designer_factory=designer_factory)"
      ]
    },
    {
      "cell_type": "markdown",
      "metadata": {
        "id": "2dLOmL49n2iV"
      },
      "source": [
        "For a live example, see\n",
        "[`EmukitDesigner`](https://github.com/google/vizier/blob/main/vizier/_src/algorithms/designers/emukit.py)\n",
        "which implements a Bayesian Optimization GP-EI algorithm implemented in\n",
        "[`emukit`](https://github.com/EmuKit/emukit), and can be wrapped by `DesignerPolicy`.\n",
        "\n",
        "Also, see our [designer testing routine](https://github.com/google/vizier/blob/main/vizier/_src/algorithms/testing/test_runners.py) for an up-to-date example on how to interact with designers."
      ]
    },
    {
      "cell_type": "markdown",
      "metadata": {
        "id": "f8OB7VnAvKiZ"
      },
      "source": [
        "## Serializing Designers\n",
        "\n",
        "Consider making the `Designer` serializable so that its state can be saved and\n",
        "loaded. Vizier offers\n",
        "[two options](https://github.com/google/vizier/blob/main/vizier/interfaces/serializable.py):\n",
        "\n",
        "*   `Serializable` should be used if the entire algorithm state can be easily\n",
        "    serialized and can be saved and restored in full.\n",
        "*   `PartiallySerializable` should be used if the algorithm has subcomponents\n",
        "    that are not easily serializable. The designer’s state can be recovered as\n",
        "    long as it was initialized with the same arguments.\n",
        "\n",
        "For an example of a `Serializable` object, see\n",
        "[Population](https://github.com/google/vizier/blob/main/vizier/_src/algorithms/evolution/numpy_populations.py),\n",
        "which is the internal state used by NSGA2.\n",
        "[NSGA2 itself](https://github.com/google/vizier/blob/main/vizier/_src/algorithms/evolution/templates.py)\n",
        "is only `PartiallySerializable` so that users can easily plug in their own\n",
        "mutation and selection operations without worrying about serializations."
      ]
    },
    {
      "cell_type": "code",
      "execution_count": null,
      "metadata": {
        "id": "2241czSSvTqP"
      },
      "outputs": [],
      "source": [
        "nsga2_pythia_creator = lambda policy_supporter: designer_policy.PartiallySerializableDesignerPolicy(\n",
        "    policy_supporter, nsga2.create_nsga2)"
      ]
    },
    {
      "cell_type": "markdown",
      "metadata": {
        "id": "lfhQxo0mJ5Qz"
      },
      "source": [
        "Serialization also makes a `Designer` run faster if its state size scales sublinearly in the number of observed Trials. For example, typical evolution algorithms and metaheuristics qualify, while GP-based algorithms do not because they use a non-parametric model. To do so, wrap a `(Partially)SerializableDesigner` into `(Partially)SerializableDesignerPolicy`, which takes care of the state management."
      ]
    }
  ],
  "metadata": {
    "colab": {
      "collapsed_sections": [],
      "last_runtime": {
        "build_target": "",
        "kind": "local"
      },
      "name": "Writing Algorithms.ipynb",
      "private_outputs": true,
      "provenance": []
    },
    "gpuClass": "standard",
    "kernelspec": {
      "display_name": "Python 3",
      "name": "python3"
    },
    "language_info": {
      "name": "python"
    }
  },
  "nbformat": 4,
  "nbformat_minor": 0
}
