{
  "cells": [
    {
      "cell_type": "markdown",
      "metadata": {
        "id": "1Zd-OaN81uVc"
      },
      "source": [
        "# Supported Algorithms\n",
        "While we service all algorithms to the user in our [policy factory](https://github.com/google/vizier/blob/main/vizier/service/policy_factory.py), many can be organized by what level of support we provide to them in addition to their applicable search spaces.\n"
      ]
    },
    {
      "cell_type": "markdown",
      "metadata": {
        "id": "KIBYKsvQ2W8F"
      },
      "source": [
        "## Official\n",
        "The following algorithms can be considered \"official\" and production-quality:\n",
        "\n",
        "1.   [`GAUSSIAN_PROCESS_BANDIT`](https://github.com/google/vizier/blob/main/vizier/_src/algorithms/designers/gp_bandit.py): Flat Search Spaces.\n",
        "2.   [`RANDOM_SEARCH`](https://github.com/google/vizier/blob/main/vizier/_src/algorithms/designers/random.py): Flat Search Spaces.\n",
        "3.   [`QUASI_RANDOM_SEARCH`](https://github.com/google/vizier/blob/main/vizier/_src/algorithms/designers/quasi_random.py): Flat Search Spaces.\n",
        "4.   [`GRID_SEARCH`](https://github.com/google/vizier/blob/main/vizier/_src/algorithms/designers/grid.py): Flat Search Spaces.\n",
        "5.   [`SHUFFLED_GRID_SEARCH`](https://github.com/google/vizier/blob/main/vizier/_src/algorithms/designers/grid.py): Flat Search Spaces.\n",
        "6.   [`EAGLE_STRATEGY`](https://github.com/google/vizier/blob/main/vizier/_src/algorithms/designers/eagle_strategy/eagle_strategy.py): Flat Search Spaces."
      ]
    },
    {
      "cell_type": "markdown",
      "metadata": {
        "id": "TpnVfTVC2ai9"
      },
      "source": [
        "## External + Imported\n",
        "These algorithms are imported and wrapped from external packages (requiring additional installations via `pip install google-vizier[algorithms]`), and thus we cannot fully control their performance:\n",
        "\n",
        "1.   [`CMA_ES`](https://github.com/google/vizier/blob/main/vizier/_src/algorithms/designers/cmaes.py): Continuous (`DOUBLE`) Search Spaces.\n",
        "2.   [`EMUKIT_GP_EI`](https://github.com/google/vizier/blob/main/vizier/_src/algorithms/designers/emukit.py): Flat Search Spaces.\n",
        "\n",
        "\n"
      ]
    },
    {
      "cell_type": "markdown",
      "metadata": {
        "id": "zLYrK5er2x7d"
      },
      "source": [
        "## Reproduced \n",
        "These algorithms are attempted reproductions of their original papers, sometimes using the authors' original implementations as inspiration (but not as direct imports). While we try our best to ensure their quality, we cannot guarantee exact performance:\n",
        "\n",
        "1. [`NSGA2`](https://github.com/google/vizier/blob/main/vizier/_src/algorithms/evolution/nsga2.py): Flat Search Spaces.\n",
        "2. [`BOCS`](https://github.com/google/vizier/blob/main/vizier/_src/algorithms/designers/bocs.py): Boolean Search Spaces.\n",
        "3. [`HARMONICA`](https://github.com/google/vizier/blob/main/vizier/_src/algorithms/designers/harmonica.py): Boolean Search Spaces."
      ]
    }
  ],
  "metadata": {
    "colab": {
      "name": "Supported Algorithms.ipynb",
      "private_outputs": true,
      "provenance": []
    }
  },
  "nbformat": 4,
  "nbformat_minor": 0
}
