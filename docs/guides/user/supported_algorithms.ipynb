{
  "cells": [
    {
      "cell_type": "markdown",
      "metadata": {
        "id": "1Zd-OaN81uVc"
      },
      "source": [
        "# Supported Algorithms\n",
        "While we service all algorithms to the user in our [policy factory](https://github.com/google/vizier/blob/main/vizier/_src/service/policy_factory.py), many can be organized by what level of support we provide to them in addition to their applicable search spaces.\n"
      ]
    },
    {
      "cell_type": "markdown",
      "metadata": {
        "id": "KIBYKsvQ2W8F"
      },
      "source": [
        "## Official\n",
        "The following algorithms can be considered \"official\" and production-quality:\n",
        "\n",
        "1.   [**GP-UCB-PE**](https://github.com/google/vizier/blob/main/vizier/_src/algorithms/designers/gp_ucb_pe.py) (`GP_UCB_PE`): Flat Search Spaces.\n",
        "2.   [**GP-Bandit**](https://github.com/google/vizier/blob/main/vizier/_src/algorithms/designers/gp_bandit.py) (`GAUSSIAN_PROCESS_BANDIT`): Flat Search Spaces.\n",
        "3.   [**Random Search**](https://github.com/google/vizier/blob/main/vizier/_src/algorithms/designers/random.py) (`RANDOM_SEARCH`): Flat Search Spaces.\n",
        "4.   [**Quasi-Random Search**](https://github.com/google/vizier/blob/main/vizier/_src/algorithms/designers/quasi_random.py) (`QUASI_RANDOM_SEARCH`): Flat Search Spaces.\n",
        "5.   [**Grid Search**](https://github.com/google/vizier/blob/main/vizier/_src/algorithms/designers/grid.py) (`GRID_SEARCH`): Flat Search Spaces.\n",
        "6.   [**Shuffled Grid Search**](https://github.com/google/vizier/blob/main/vizier/_src/algorithms/designers/grid.py) (`SHUFFLED_GRID_SEARCH`): Flat Search Spaces.\n",
        "7.   [**Eagle Strategy**](https://github.com/google/vizier/blob/main/vizier/_src/algorithms/designers/eagle_strategy/eagle_strategy.py) (`EAGLE_STRATEGY`): Flat Search Spaces."
      ]
    },
    {
      "cell_type": "markdown",
      "metadata": {
        "id": "TpnVfTVC2ai9"
      },
      "source": [
        "## External + Imported\n",
        "These algorithms are imported and wrapped from external packages (requiring additional installations via `pip install google-vizier[algorithms]`), and thus we cannot fully control their performance:\n",
        "\n",
        "1.   [**CMA-ES**](https://github.com/google/vizier/blob/main/vizier/_src/algorithms/designers/cmaes.py) (`CMA_ES`): Continuous (`DOUBLE`) Search Spaces.\n",
        "2.   [**Emukit Bayesian Optimization**](https://github.com/google/vizier/blob/main/vizier/_src/algorithms/designers/emukit.py) (`EMUKIT_GP_EI`): Flat Search Spaces.\n",
        "\n",
        "\n"
      ]
    },
    {
      "cell_type": "markdown",
      "metadata": {
        "id": "zLYrK5er2x7d"
      },
      "source": [
        "## Reproduced\n",
        "These algorithms are attempted reproductions of their original papers, sometimes using the authors' original implementations as inspiration (but not as direct imports). While we try our best to ensure their quality, we cannot guarantee exact performance:\n",
        "\n",
        "1. [**NSGA-II**](https://github.com/google/vizier/blob/main/vizier/_src/algorithms/evolution/nsga2.py) (`NSGA2`): Flat Search Spaces.\n",
        "2. [**Bayesian Optimization of Combinatorial Structures**](https://github.com/google/vizier/blob/main/vizier/_src/algorithms/designers/bocs.py) (`BOCS`): Boolean Search Spaces.\n",
        "3. [**Harmonica**](https://github.com/google/vizier/blob/main/vizier/_src/algorithms/designers/harmonica.py) (`HARMONICA`): Boolean Search Spaces."
      ]
    }
  ],
  "metadata": {
    "colab": {
      "name": "Supported Algorithms.ipynb",
      "private_outputs": true,
      "provenance": []
    }
  },
  "nbformat": 4,
  "nbformat_minor": 0
}
